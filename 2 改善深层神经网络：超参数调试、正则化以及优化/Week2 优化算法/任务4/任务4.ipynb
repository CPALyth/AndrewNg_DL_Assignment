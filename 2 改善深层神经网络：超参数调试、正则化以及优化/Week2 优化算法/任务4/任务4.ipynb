{
 "metadata": {
  "language_info": {
   "codemirror_mode": {
    "name": "ipython",
    "version": 3
   },
   "file_extension": ".py",
   "mimetype": "text/x-python",
   "name": "python",
   "nbconvert_exporter": "python",
   "pygments_lexer": "ipython3",
   "version": 3
  },
  "orig_nbformat": 2
 },
 "nbformat": 4,
 "nbformat_minor": 2,
 "cells": [
  {
   "source": [
    "# Optimization Methods\n",
    "\n",
    "到目前为止，您一直使用梯度下降来更新参数并最小化成本函数。本次作业中，您将学习更先进的优化方法，它在加快学习速度的同时，甚至可以让您获得更好的最终值。一个好的优化算法可以让你几个小时内就获得一个结果，而不是等待几天。"
   ],
   "cell_type": "markdown",
   "metadata": {}
  },
  {
   "source": [
    "梯度下降好比在损失函数上“下坡”。就像下图：\n",
    "![](2-4-1.jpg)\n",
    "\n",
    "在训练的每个步骤中，你都按照一定的方向更新参数，以尝试到达最低点。\n",
    "\n",
    "符号：与往常一样， $\\frac{\\partial J}{\\partial a } = da$ 适用于任何变量a。\n",
    "\n",
    "首先，请运行以下代码以导入所需的库。"
   ],
   "cell_type": "markdown",
   "metadata": {}
  },
  {
   "cell_type": "code",
   "execution_count": null,
   "metadata": {},
   "outputs": [],
   "source": [
    "import numpy as np\n",
    "import matplotlib.pyplot as plt\n",
    "import scipy.io\n",
    "import math\n",
    "import sklearn\n",
    "import sklearn.datasets\n",
    "\n",
    "from "
   ]
  }
 ]
}