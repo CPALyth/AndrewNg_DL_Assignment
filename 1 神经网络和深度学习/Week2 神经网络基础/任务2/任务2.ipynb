{
 "metadata": {
  "language_info": {
   "codemirror_mode": {
    "name": "ipython",
    "version": 3
   },
   "file_extension": ".py",
   "mimetype": "text/x-python",
   "name": "python",
   "nbconvert_exporter": "python",
   "pygments_lexer": "ipython3",
   "version": "3.7.6-final"
  },
  "orig_nbformat": 2,
  "kernelspec": {
   "name": "Python 3.7.6 64-bit ('base': conda)",
   "display_name": "Python 3.7.6 64-bit ('base': conda)",
   "metadata": {
    "interpreter": {
     "hash": "07efdcd4b820c98a756949507a4d29d7862823915ec7477944641bea022f4f62"
    }
   }
  }
 },
 "nbformat": 4,
 "nbformat_minor": 2,
 "cells": [
  {
   "source": [
    "# Logistic Regression with a Neural Network mindset\n",
    "\n",
    "欢迎来到您的第一个（必填）编程任务！你将建立一个逻辑回归分类器来识别猫。这个任务将指导你如何用神经网络的思维方式做到这一点，所以也将磨练你对深度学习的直觉。\n",
    "\n",
    "**说明：**\n",
    "\n",
    "不要在代码中使用循环（for / while），除非指令明确要求您这样做。\n",
    "\n",
    "**您将学习：**\n",
    "\n",
    "构建一个学习算法的总体架构，包括：\n",
    "- 初始化参数\n",
    "- 计算成本函数及其梯度\n",
    "- 使用优化算法（梯度下降）\n",
    "将上述三个函数按照正确的顺序收集到主模型函数中。"
   ],
   "cell_type": "markdown",
   "metadata": {}
  },
  {
   "source": [
    "## 1 - Packages ##\n",
    "\n",
    "首先，运行下面的单元格，导入您在此作业中需要的所有软件包。\n",
    "- [numpy](www.numpy.org) 科学计算的基本软件包。\n",
    "- [h5py](http://www.h5py.org) 是与数据集（存储在H5文件中的数据集）交互的常用软件包。\n",
    "- [matplotlib](http://matplotlib.org) 著名的绘图工具\n",
    "- [PIL](http://www.pythonware.com/products/pil/) and [scipy](https://www.scipy.org/) 最后环节用自己的图片测试自己的模型。"
   ],
   "cell_type": "markdown",
   "metadata": {}
  },
  {
   "cell_type": "code",
   "execution_count": 38,
   "metadata": {
    "tags": []
   },
   "outputs": [],
   "source": [
    "import numpy as np\n",
    "import matplotlib.pyplot as plt\n",
    "import h5py\n",
    "from lr_utils import load_dataset\n",
    "\n",
    "# 作用：当调用plt.plot()进行绘图时，可以直接出现图像，不用写plt.show()\n",
    "%matplotlib inline  "
   ]
  },
  {
   "source": [
    "## 2 - Overview of the Problem set ##\n",
    "\n",
    "**Problem Statement**: 给你一个数据集 (\"data.h5\") ，它包含以下信息:\n",
    "    - a training set of m_train images labeled as cat (y=1) or non-cat (y=0)\n",
    "    - a test set of m_test images labeled as cat or non-cat\n",
    "    - each image is of shape (num_px, num_px, 3) where 3 is for the 3 channels (RGB). Thus, each image is square (height = num_px) and (width = num_px).\n",
    "\n",
    "您将构建一个简单的图像识别算法，可以正确地将图片分类为猫或非猫\n",
    "\n",
    "现在来熟悉下数据集。运行下面的代码加载数据。"
   ],
   "cell_type": "markdown",
   "metadata": {}
  },
  {
   "cell_type": "code",
   "execution_count": 43,
   "metadata": {
    "tags": []
   },
   "outputs": [],
   "source": [
    "train_set_x_orig, train_set_y, test_set_x_orig, test_set_y, classes = load_dataset()"
   ]
  },
  {
   "source": [
    "深度学习中的很多software bugs都是因为矩阵/矢量的维度不匹配。如果你能保证矩阵/向量维度的正确，可以消除许多错误"
   ],
   "cell_type": "markdown",
   "metadata": {}
  },
  {
   "cell_type": "code",
   "execution_count": 44,
   "metadata": {
    "tags": []
   },
   "outputs": [
    {
     "output_type": "stream",
     "name": "stdout",
     "text": "train_set_x shape: (209, 64, 64, 3)\ntrain_set_y shape: (1, 209)\ntest_set_x shape: (50, 64, 64, 3)\ntest_set_y shape: (1, 50)\n"
    }
   ],
   "source": [
    "print (\"train_set_x shape: \" + str(train_set_x_orig.shape))\n",
    "print (\"train_set_y shape: \" + str(train_set_y.shape))\n",
    "print (\"test_set_x shape: \" + str(test_set_x_orig.shape))\n",
    "print (\"test_set_y shape: \" + str(test_set_y.shape))"
   ]
  },
  {
   "source": [
    "train_set_x_orig和test_set_x_orig的每一行都是一个表示图像的数组。您可以通过运行以下代码来可视化示例。随意更改index值并重新运行以查看其他图像。"
   ],
   "cell_type": "markdown",
   "metadata": {}
  },
  {
   "cell_type": "code",
   "execution_count": 46,
   "metadata": {
    "tags": []
   },
   "outputs": [
    {
     "output_type": "stream",
     "name": "stdout",
     "text": "y = 0, it's a b'non-cat' picture.\n"
    },
    {
     "output_type": "display_data",
     "data": {
      "text/plain": "<Figure size 432x288 with 1 Axes>",
      "image/svg+xml": "<?xml version=\"1.0\" encoding=\"utf-8\" standalone=\"no\"?>\r\n<!DOCTYPE svg PUBLIC \"-//W3C//DTD SVG 1.1//EN\"\r\n  \"http://www.w3.org/Graphics/SVG/1.1/DTD/svg11.dtd\">\r\n<!-- Created with matplotlib (https://matplotlib.org/) -->\r\n<svg height=\"250.618594pt\" version=\"1.1\" viewBox=\"0 0 251.565 250.618594\" width=\"251.565pt\" xmlns=\"http://www.w3.org/2000/svg\" xmlns:xlink=\"http://www.w3.org/1999/xlink\">\r\n <defs>\r\n  <style type=\"text/css\">\r\n*{stroke-linecap:butt;stroke-linejoin:round;}\r\n  </style>\r\n </defs>\r\n <g id=\"figure_1\">\r\n  <g id=\"patch_1\">\r\n   <path d=\"M 0 250.618594 \r\nL 251.565 250.618594 \r\nL 251.565 0 \r\nL 0 0 \r\nz\r\n\" style=\"fill:none;\"/>\r\n  </g>\r\n  <g id=\"axes_1\">\r\n   <g id=\"patch_2\">\r\n    <path d=\"M 26.925 226.740469 \r\nL 244.365 226.740469 \r\nL 244.365 9.300469 \r\nL 26.925 9.300469 \r\nz\r\n\" style=\"fill:#ffffff;\"/>\r\n   </g>\r\n   <g clip-path=\"url(#p40fb2db22f)\">\r\n    <image height=\"218\" id=\"imagea839392148\" transform=\"scale(1 -1)translate(0 -218)\" width=\"218\" x=\"26.925\" xlink:href=\"data:image/png;base64,\r\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\" y=\"-8.740469\"/>\r\n   </g>\r\n   <g id=\"matplotlib.axis_1\">\r\n    <g id=\"xtick_1\">\r\n     <g id=\"line2d_1\">\r\n      <defs>\r\n       <path d=\"M 0 0 \r\nL 0 3.5 \r\n\" id=\"m3dec6d7be8\" style=\"stroke:#000000;stroke-width:0.8;\"/>\r\n      </defs>\r\n      <g>\r\n       <use style=\"stroke:#000000;stroke-width:0.8;\" x=\"28.62375\" xlink:href=\"#m3dec6d7be8\" y=\"226.740469\"/>\r\n      </g>\r\n     </g>\r\n     <g id=\"text_1\">\r\n      <!-- 0 -->\r\n      <defs>\r\n       <path d=\"M 31.78125 66.40625 \r\nQ 24.171875 66.40625 20.328125 58.90625 \r\nQ 16.5 51.421875 16.5 36.375 \r\nQ 16.5 21.390625 20.328125 13.890625 \r\nQ 24.171875 6.390625 31.78125 6.390625 \r\nQ 39.453125 6.390625 43.28125 13.890625 \r\nQ 47.125 21.390625 47.125 36.375 \r\nQ 47.125 51.421875 43.28125 58.90625 \r\nQ 39.453125 66.40625 31.78125 66.40625 \r\nz\r\nM 31.78125 74.21875 \r\nQ 44.046875 74.21875 50.515625 64.515625 \r\nQ 56.984375 54.828125 56.984375 36.375 \r\nQ 56.984375 17.96875 50.515625 8.265625 \r\nQ 44.046875 -1.421875 31.78125 -1.421875 \r\nQ 19.53125 -1.421875 13.0625 8.265625 \r\nQ 6.59375 17.96875 6.59375 36.375 \r\nQ 6.59375 54.828125 13.0625 64.515625 \r\nQ 19.53125 74.21875 31.78125 74.21875 \r\nz\r\n\" id=\"DejaVuSans-48\"/>\r\n      </defs>\r\n      <g transform=\"translate(25.4425 241.338906)scale(0.1 -0.1)\">\r\n       <use xlink:href=\"#DejaVuSans-48\"/>\r\n      </g>\r\n     </g>\r\n    </g>\r\n    <g id=\"xtick_2\">\r\n     <g id=\"line2d_2\">\r\n      <g>\r\n       <use style=\"stroke:#000000;stroke-width:0.8;\" x=\"62.59875\" xlink:href=\"#m3dec6d7be8\" y=\"226.740469\"/>\r\n      </g>\r\n     </g>\r\n     <g id=\"text_2\">\r\n      <!-- 10 -->\r\n      <defs>\r\n       <path d=\"M 12.40625 8.296875 \r\nL 28.515625 8.296875 \r\nL 28.515625 63.921875 \r\nL 10.984375 60.40625 \r\nL 10.984375 69.390625 \r\nL 28.421875 72.90625 \r\nL 38.28125 72.90625 \r\nL 38.28125 8.296875 \r\nL 54.390625 8.296875 \r\nL 54.390625 0 \r\nL 12.40625 0 \r\nz\r\n\" id=\"DejaVuSans-49\"/>\r\n      </defs>\r\n      <g transform=\"translate(56.23625 241.338906)scale(0.1 -0.1)\">\r\n       <use xlink:href=\"#DejaVuSans-49\"/>\r\n       <use x=\"63.623047\" xlink:href=\"#DejaVuSans-48\"/>\r\n      </g>\r\n     </g>\r\n    </g>\r\n    <g id=\"xtick_3\">\r\n     <g id=\"line2d_3\">\r\n      <g>\r\n       <use style=\"stroke:#000000;stroke-width:0.8;\" x=\"96.57375\" xlink:href=\"#m3dec6d7be8\" y=\"226.740469\"/>\r\n      </g>\r\n     </g>\r\n     <g id=\"text_3\">\r\n      <!-- 20 -->\r\n      <defs>\r\n       <path d=\"M 19.1875 8.296875 \r\nL 53.609375 8.296875 \r\nL 53.609375 0 \r\nL 7.328125 0 \r\nL 7.328125 8.296875 \r\nQ 12.9375 14.109375 22.625 23.890625 \r\nQ 32.328125 33.6875 34.8125 36.53125 \r\nQ 39.546875 41.84375 41.421875 45.53125 \r\nQ 43.3125 49.21875 43.3125 52.78125 \r\nQ 43.3125 58.59375 39.234375 62.25 \r\nQ 35.15625 65.921875 28.609375 65.921875 \r\nQ 23.96875 65.921875 18.8125 64.3125 \r\nQ 13.671875 62.703125 7.8125 59.421875 \r\nL 7.8125 69.390625 \r\nQ 13.765625 71.78125 18.9375 73 \r\nQ 24.125 74.21875 28.421875 74.21875 \r\nQ 39.75 74.21875 46.484375 68.546875 \r\nQ 53.21875 62.890625 53.21875 53.421875 \r\nQ 53.21875 48.921875 51.53125 44.890625 \r\nQ 49.859375 40.875 45.40625 35.40625 \r\nQ 44.1875 33.984375 37.640625 27.21875 \r\nQ 31.109375 20.453125 19.1875 8.296875 \r\nz\r\n\" id=\"DejaVuSans-50\"/>\r\n      </defs>\r\n      <g transform=\"translate(90.21125 241.338906)scale(0.1 -0.1)\">\r\n       <use xlink:href=\"#DejaVuSans-50\"/>\r\n       <use x=\"63.623047\" xlink:href=\"#DejaVuSans-48\"/>\r\n      </g>\r\n     </g>\r\n    </g>\r\n    <g id=\"xtick_4\">\r\n     <g id=\"line2d_4\">\r\n      <g>\r\n       <use style=\"stroke:#000000;stroke-width:0.8;\" x=\"130.54875\" xlink:href=\"#m3dec6d7be8\" y=\"226.740469\"/>\r\n      </g>\r\n     </g>\r\n     <g id=\"text_4\">\r\n      <!-- 30 -->\r\n      <defs>\r\n       <path d=\"M 40.578125 39.3125 \r\nQ 47.65625 37.796875 51.625 33 \r\nQ 55.609375 28.21875 55.609375 21.1875 \r\nQ 55.609375 10.40625 48.1875 4.484375 \r\nQ 40.765625 -1.421875 27.09375 -1.421875 \r\nQ 22.515625 -1.421875 17.65625 -0.515625 \r\nQ 12.796875 0.390625 7.625 2.203125 \r\nL 7.625 11.71875 \r\nQ 11.71875 9.328125 16.59375 8.109375 \r\nQ 21.484375 6.890625 26.8125 6.890625 \r\nQ 36.078125 6.890625 40.9375 10.546875 \r\nQ 45.796875 14.203125 45.796875 21.1875 \r\nQ 45.796875 27.640625 41.28125 31.265625 \r\nQ 36.765625 34.90625 28.71875 34.90625 \r\nL 20.21875 34.90625 \r\nL 20.21875 43.015625 \r\nL 29.109375 43.015625 \r\nQ 36.375 43.015625 40.234375 45.921875 \r\nQ 44.09375 48.828125 44.09375 54.296875 \r\nQ 44.09375 59.90625 40.109375 62.90625 \r\nQ 36.140625 65.921875 28.71875 65.921875 \r\nQ 24.65625 65.921875 20.015625 65.03125 \r\nQ 15.375 64.15625 9.8125 62.3125 \r\nL 9.8125 71.09375 \r\nQ 15.4375 72.65625 20.34375 73.4375 \r\nQ 25.25 74.21875 29.59375 74.21875 \r\nQ 40.828125 74.21875 47.359375 69.109375 \r\nQ 53.90625 64.015625 53.90625 55.328125 \r\nQ 53.90625 49.265625 50.4375 45.09375 \r\nQ 46.96875 40.921875 40.578125 39.3125 \r\nz\r\n\" id=\"DejaVuSans-51\"/>\r\n      </defs>\r\n      <g transform=\"translate(124.18625 241.338906)scale(0.1 -0.1)\">\r\n       <use xlink:href=\"#DejaVuSans-51\"/>\r\n       <use x=\"63.623047\" xlink:href=\"#DejaVuSans-48\"/>\r\n      </g>\r\n     </g>\r\n    </g>\r\n    <g id=\"xtick_5\">\r\n     <g id=\"line2d_5\">\r\n      <g>\r\n       <use style=\"stroke:#000000;stroke-width:0.8;\" x=\"164.52375\" xlink:href=\"#m3dec6d7be8\" y=\"226.740469\"/>\r\n      </g>\r\n     </g>\r\n     <g id=\"text_5\">\r\n      <!-- 40 -->\r\n      <defs>\r\n       <path d=\"M 37.796875 64.3125 \r\nL 12.890625 25.390625 \r\nL 37.796875 25.390625 \r\nz\r\nM 35.203125 72.90625 \r\nL 47.609375 72.90625 \r\nL 47.609375 25.390625 \r\nL 58.015625 25.390625 \r\nL 58.015625 17.1875 \r\nL 47.609375 17.1875 \r\nL 47.609375 0 \r\nL 37.796875 0 \r\nL 37.796875 17.1875 \r\nL 4.890625 17.1875 \r\nL 4.890625 26.703125 \r\nz\r\n\" id=\"DejaVuSans-52\"/>\r\n      </defs>\r\n      <g transform=\"translate(158.16125 241.338906)scale(0.1 -0.1)\">\r\n       <use xlink:href=\"#DejaVuSans-52\"/>\r\n       <use x=\"63.623047\" xlink:href=\"#DejaVuSans-48\"/>\r\n      </g>\r\n     </g>\r\n    </g>\r\n    <g id=\"xtick_6\">\r\n     <g id=\"line2d_6\">\r\n      <g>\r\n       <use style=\"stroke:#000000;stroke-width:0.8;\" x=\"198.49875\" xlink:href=\"#m3dec6d7be8\" y=\"226.740469\"/>\r\n      </g>\r\n     </g>\r\n     <g id=\"text_6\">\r\n      <!-- 50 -->\r\n      <defs>\r\n       <path d=\"M 10.796875 72.90625 \r\nL 49.515625 72.90625 \r\nL 49.515625 64.59375 \r\nL 19.828125 64.59375 \r\nL 19.828125 46.734375 \r\nQ 21.96875 47.46875 24.109375 47.828125 \r\nQ 26.265625 48.1875 28.421875 48.1875 \r\nQ 40.625 48.1875 47.75 41.5 \r\nQ 54.890625 34.8125 54.890625 23.390625 \r\nQ 54.890625 11.625 47.5625 5.09375 \r\nQ 40.234375 -1.421875 26.90625 -1.421875 \r\nQ 22.3125 -1.421875 17.546875 -0.640625 \r\nQ 12.796875 0.140625 7.71875 1.703125 \r\nL 7.71875 11.625 \r\nQ 12.109375 9.234375 16.796875 8.0625 \r\nQ 21.484375 6.890625 26.703125 6.890625 \r\nQ 35.15625 6.890625 40.078125 11.328125 \r\nQ 45.015625 15.765625 45.015625 23.390625 \r\nQ 45.015625 31 40.078125 35.4375 \r\nQ 35.15625 39.890625 26.703125 39.890625 \r\nQ 22.75 39.890625 18.8125 39.015625 \r\nQ 14.890625 38.140625 10.796875 36.28125 \r\nz\r\n\" id=\"DejaVuSans-53\"/>\r\n      </defs>\r\n      <g transform=\"translate(192.13625 241.338906)scale(0.1 -0.1)\">\r\n       <use xlink:href=\"#DejaVuSans-53\"/>\r\n       <use x=\"63.623047\" xlink:href=\"#DejaVuSans-48\"/>\r\n      </g>\r\n     </g>\r\n    </g>\r\n    <g id=\"xtick_7\">\r\n     <g id=\"line2d_7\">\r\n      <g>\r\n       <use style=\"stroke:#000000;stroke-width:0.8;\" x=\"232.47375\" xlink:href=\"#m3dec6d7be8\" y=\"226.740469\"/>\r\n      </g>\r\n     </g>\r\n     <g id=\"text_7\">\r\n      <!-- 60 -->\r\n      <defs>\r\n       <path d=\"M 33.015625 40.375 \r\nQ 26.375 40.375 22.484375 35.828125 \r\nQ 18.609375 31.296875 18.609375 23.390625 \r\nQ 18.609375 15.53125 22.484375 10.953125 \r\nQ 26.375 6.390625 33.015625 6.390625 \r\nQ 39.65625 6.390625 43.53125 10.953125 \r\nQ 47.40625 15.53125 47.40625 23.390625 \r\nQ 47.40625 31.296875 43.53125 35.828125 \r\nQ 39.65625 40.375 33.015625 40.375 \r\nz\r\nM 52.59375 71.296875 \r\nL 52.59375 62.3125 \r\nQ 48.875 64.0625 45.09375 64.984375 \r\nQ 41.3125 65.921875 37.59375 65.921875 \r\nQ 27.828125 65.921875 22.671875 59.328125 \r\nQ 17.53125 52.734375 16.796875 39.40625 \r\nQ 19.671875 43.65625 24.015625 45.921875 \r\nQ 28.375 48.1875 33.59375 48.1875 \r\nQ 44.578125 48.1875 50.953125 41.515625 \r\nQ 57.328125 34.859375 57.328125 23.390625 \r\nQ 57.328125 12.15625 50.6875 5.359375 \r\nQ 44.046875 -1.421875 33.015625 -1.421875 \r\nQ 20.359375 -1.421875 13.671875 8.265625 \r\nQ 6.984375 17.96875 6.984375 36.375 \r\nQ 6.984375 53.65625 15.1875 63.9375 \r\nQ 23.390625 74.21875 37.203125 74.21875 \r\nQ 40.921875 74.21875 44.703125 73.484375 \r\nQ 48.484375 72.75 52.59375 71.296875 \r\nz\r\n\" id=\"DejaVuSans-54\"/>\r\n      </defs>\r\n      <g transform=\"translate(226.11125 241.338906)scale(0.1 -0.1)\">\r\n       <use xlink:href=\"#DejaVuSans-54\"/>\r\n       <use x=\"63.623047\" xlink:href=\"#DejaVuSans-48\"/>\r\n      </g>\r\n     </g>\r\n    </g>\r\n   </g>\r\n   <g id=\"matplotlib.axis_2\">\r\n    <g id=\"ytick_1\">\r\n     <g id=\"line2d_8\">\r\n      <defs>\r\n       <path d=\"M 0 0 \r\nL -3.5 0 \r\n\" id=\"md220b8d356\" style=\"stroke:#000000;stroke-width:0.8;\"/>\r\n      </defs>\r\n      <g>\r\n       <use style=\"stroke:#000000;stroke-width:0.8;\" x=\"26.925\" xlink:href=\"#md220b8d356\" y=\"10.999219\"/>\r\n      </g>\r\n     </g>\r\n     <g id=\"text_8\">\r\n      <!-- 0 -->\r\n      <g transform=\"translate(13.5625 14.798437)scale(0.1 -0.1)\">\r\n       <use xlink:href=\"#DejaVuSans-48\"/>\r\n      </g>\r\n     </g>\r\n    </g>\r\n    <g id=\"ytick_2\">\r\n     <g id=\"line2d_9\">\r\n      <g>\r\n       <use style=\"stroke:#000000;stroke-width:0.8;\" x=\"26.925\" xlink:href=\"#md220b8d356\" y=\"44.974219\"/>\r\n      </g>\r\n     </g>\r\n     <g id=\"text_9\">\r\n      <!-- 10 -->\r\n      <g transform=\"translate(7.2 48.773437)scale(0.1 -0.1)\">\r\n       <use xlink:href=\"#DejaVuSans-49\"/>\r\n       <use x=\"63.623047\" xlink:href=\"#DejaVuSans-48\"/>\r\n      </g>\r\n     </g>\r\n    </g>\r\n    <g id=\"ytick_3\">\r\n     <g id=\"line2d_10\">\r\n      <g>\r\n       <use style=\"stroke:#000000;stroke-width:0.8;\" x=\"26.925\" xlink:href=\"#md220b8d356\" y=\"78.949219\"/>\r\n      </g>\r\n     </g>\r\n     <g id=\"text_10\">\r\n      <!-- 20 -->\r\n      <g transform=\"translate(7.2 82.748437)scale(0.1 -0.1)\">\r\n       <use xlink:href=\"#DejaVuSans-50\"/>\r\n       <use x=\"63.623047\" xlink:href=\"#DejaVuSans-48\"/>\r\n      </g>\r\n     </g>\r\n    </g>\r\n    <g id=\"ytick_4\">\r\n     <g id=\"line2d_11\">\r\n      <g>\r\n       <use style=\"stroke:#000000;stroke-width:0.8;\" x=\"26.925\" xlink:href=\"#md220b8d356\" y=\"112.924219\"/>\r\n      </g>\r\n     </g>\r\n     <g id=\"text_11\">\r\n      <!-- 30 -->\r\n      <g transform=\"translate(7.2 116.723437)scale(0.1 -0.1)\">\r\n       <use xlink:href=\"#DejaVuSans-51\"/>\r\n       <use x=\"63.623047\" xlink:href=\"#DejaVuSans-48\"/>\r\n      </g>\r\n     </g>\r\n    </g>\r\n    <g id=\"ytick_5\">\r\n     <g id=\"line2d_12\">\r\n      <g>\r\n       <use style=\"stroke:#000000;stroke-width:0.8;\" x=\"26.925\" xlink:href=\"#md220b8d356\" y=\"146.899219\"/>\r\n      </g>\r\n     </g>\r\n     <g id=\"text_12\">\r\n      <!-- 40 -->\r\n      <g transform=\"translate(7.2 150.698437)scale(0.1 -0.1)\">\r\n       <use xlink:href=\"#DejaVuSans-52\"/>\r\n       <use x=\"63.623047\" xlink:href=\"#DejaVuSans-48\"/>\r\n      </g>\r\n     </g>\r\n    </g>\r\n    <g id=\"ytick_6\">\r\n     <g id=\"line2d_13\">\r\n      <g>\r\n       <use style=\"stroke:#000000;stroke-width:0.8;\" x=\"26.925\" xlink:href=\"#md220b8d356\" y=\"180.874219\"/>\r\n      </g>\r\n     </g>\r\n     <g id=\"text_13\">\r\n      <!-- 50 -->\r\n      <g transform=\"translate(7.2 184.673437)scale(0.1 -0.1)\">\r\n       <use xlink:href=\"#DejaVuSans-53\"/>\r\n       <use x=\"63.623047\" xlink:href=\"#DejaVuSans-48\"/>\r\n      </g>\r\n     </g>\r\n    </g>\r\n    <g id=\"ytick_7\">\r\n     <g id=\"line2d_14\">\r\n      <g>\r\n       <use style=\"stroke:#000000;stroke-width:0.8;\" x=\"26.925\" xlink:href=\"#md220b8d356\" y=\"214.849219\"/>\r\n      </g>\r\n     </g>\r\n     <g id=\"text_14\">\r\n      <!-- 60 -->\r\n      <g transform=\"translate(7.2 218.648437)scale(0.1 -0.1)\">\r\n       <use xlink:href=\"#DejaVuSans-54\"/>\r\n       <use x=\"63.623047\" xlink:href=\"#DejaVuSans-48\"/>\r\n      </g>\r\n     </g>\r\n    </g>\r\n   </g>\r\n   <g id=\"patch_3\">\r\n    <path d=\"M 26.925 226.740469 \r\nL 26.925 9.300469 \r\n\" style=\"fill:none;stroke:#000000;stroke-linecap:square;stroke-linejoin:miter;stroke-width:0.8;\"/>\r\n   </g>\r\n   <g id=\"patch_4\">\r\n    <path d=\"M 244.365 226.740469 \r\nL 244.365 9.300469 \r\n\" style=\"fill:none;stroke:#000000;stroke-linecap:square;stroke-linejoin:miter;stroke-width:0.8;\"/>\r\n   </g>\r\n   <g id=\"patch_5\">\r\n    <path d=\"M 26.925 226.740469 \r\nL 244.365 226.740469 \r\n\" style=\"fill:none;stroke:#000000;stroke-linecap:square;stroke-linejoin:miter;stroke-width:0.8;\"/>\r\n   </g>\r\n   <g id=\"patch_6\">\r\n    <path d=\"M 26.925 9.300469 \r\nL 244.365 9.300469 \r\n\" style=\"fill:none;stroke:#000000;stroke-linecap:square;stroke-linejoin:miter;stroke-width:0.8;\"/>\r\n   </g>\r\n  </g>\r\n </g>\r\n <defs>\r\n  <clipPath id=\"p40fb2db22f\">\r\n   <rect height=\"217.44\" width=\"217.44\" x=\"26.925\" y=\"9.300469\"/>\r\n  </clipPath>\r\n </defs>\r\n</svg>\r\n",
      "image/png": "[encoded data removed]"
     },
     "metadata": {
      "needs_background": "light"
     }
    }
   ],
   "source": [
    "index = 6\n",
    "plt.imshow(train_set_x_orig[index])\n",
    "flag_isCat = train_set_y[0, index]\n",
    "str_class = str(classes[flag_isCat])\n",
    "print (\"y = \" + str(train_set_y[0, index]) + \", it's a \" + str_class +  \" picture.\")"
   ]
  },
  {
   "source": [
    "为了方便起见，我们要  \n",
    "把训练集ndarray的形状变为（64$*$64$*$3，209）  \n",
    "把测练集ndarray的形状变为（64$*$64$*$3，50）"
   ],
   "cell_type": "markdown",
   "metadata": {}
  },
  {
   "cell_type": "code",
   "execution_count": 49,
   "metadata": {
    "tags": []
   },
   "outputs": [
    {
     "output_type": "stream",
     "name": "stdout",
     "text": "(12288, 209)\n(12288, 50)\n209\n50\n"
    }
   ],
   "source": [
    "num_px = train_set_x_orig.shape[1]\n",
    "m_train = train_set_x_orig.shape[0]\n",
    "m_test = test_set_x_orig.shape[0]\n",
    "train_set_x_flatten = train_set_x_orig.reshape(num_px*num_px*3, -1)\n",
    "test_set_x_flatten = test_set_x_orig.reshape(num_px*num_px*3, -1)\n",
    "print(train_set_x_flatten.shape)\n",
    "print(test_set_x_flatten.shape)\n",
    "print(m_train)\n",
    "print(m_test)\n"
   ]
  },
  {
   "source": [
    "为了表示彩色图像，必须为每个像素指定红色，绿色和蓝色通道（RGB），因此像素值实际上是从0到255的三个数字的向量。\n",
    "\n",
    "机器学习中一个常见的预处理步骤是对数据集进行中心化和标准化，这意味着您从每个示例中减去整个numpy数组的平均值，然后将每个示例除以整个numpy数组的标准偏差。但是对于图片数据集来说，它更简单，更方便，几乎可以将数据集的每一行除以255（像素通道的最大值）。\n",
    "\n",
    "让我们标准化我们的数据集。"
   ],
   "cell_type": "markdown",
   "metadata": {}
  },
  {
   "cell_type": "code",
   "execution_count": null,
   "metadata": {},
   "outputs": [],
   "source": [
    "train_set_x = train_set_x_flatten / 255\n",
    "test_set_x = test_set_x_flatten / 255"
   ]
  },
  {
   "source": [
    "\n",
    "**你需要记住的是：**  \n",
    "面对一个新的数据集，常见的预处理步骤如下：  \n",
    "- Figure out the dimensions and shapes of the problem (m_train, m_test, num_px, ...)    \n",
    "- Reshape the datasets such that each example is now a vector of size (num_px \\* num_px \\* 3, m) \n",
    "- \"Standardize\" the data  "
   ],
   "cell_type": "markdown",
   "metadata": {}
  },
  {
   "source": [
    "## 3 - General Architecture of the learning algorithm ##\n",
    "\n",
    "是时候设计一个简单的算法来区分猫图像和非猫图像。\n",
    "你将建立一个Logistic回归，使用神经网络的思维方式。\n",
    "**Mathematical expression of the algorithm**:\n",
    "\n",
    "For one example $x^{(i)}$:\n",
    "$$z^{(i)} = wx^{(i)} + b \\tag{1}$$\n",
    "$$\\hat{y}^{(i)} = a^{(i)} = sigmoid(z^{(i)})\\tag{2}$$ \n",
    "$$ \\mathcal{L}(a^{(i)}, y^{(i)}) =  - y^{(i)}  \\log(a^{(i)}) - (1-y^{(i)} )  \\log(1-a^{(i)})\\tag{3}$$\n",
    "\n",
    "The cost is then computed by summing over all training examples:\n",
    "$$ J = \\frac{1}{m} \\sum_{i=1}^m \\mathcal{L}(a^{(i)}, y^{(i)})\\tag{6}$$\n",
    "\n",
    "**关键步骤**：在本练习中，您将执行以下步骤：\n",
    "- Initialize the parameters of the model\n",
    "- he parameters for the model by minimizing the cost  \n",
    "- Use the learned parameters to make predictions (on the test set)\n",
    "- Analyse the results and conclude"
   ],
   "cell_type": "markdown",
   "metadata": {}
  },
  {
   "source": [
    "## 4 - Building the parts of our algorithm ## \n",
    "\n",
    "建立神经网络的主要步骤是：\n",
    "\n",
    "- 定义模型结构（如输入特征的个数）\n",
    "- 初始化模型的参数\n",
    "- 循环：\n",
    " - 计算当前损失（正向传播）\n",
    " - 计算当前梯度（反向传播）\n",
    " - 更新参数（梯度下降）\n",
    " \n",
    "你经常分别建立1-3，并把它们整合到我们所说的一个函数中model()。\n",
    "\n",
    "### 4.1 - Helper functions 辅助函数\n",
    "\n",
    "**Exercise**: Using your code from \"Python Basics\", implement `sigmoid()`. As you've seen in the figure above, you need to compute $sigmoid( wx + b) = \\frac{1}{1 + e^{-(wx + b)}}$ to make predictions. Use np.exp()."
   ],
   "cell_type": "markdown",
   "metadata": {}
  },
  {
   "cell_type": "code",
   "execution_count": 50,
   "metadata": {},
   "outputs": [],
   "source": [
    "def sigmoid(z):\n",
    "    s = 1/(1+np.exp(-z))\n",
    "    return s"
   ]
  },
  {
   "cell_type": "code",
   "execution_count": 53,
   "metadata": {
    "tags": []
   },
   "outputs": [
    {
     "output_type": "stream",
     "name": "stdout",
     "text": "[0.5        0.88079708]\n"
    }
   ],
   "source": [
    "ret = sigmoid(np.array([0,2]))\n",
    "print(ret)"
   ]
  },
  {
   "source": [
    "### 4.2 - Initializing parameters\n",
    "\n",
    "**Exercise:** 在下面的单元格中实现参数初始化。您必须将w初始化为零向量。如果您不知道要使用哪个numpy函数，请在Numpy库文档中查找 np.zeros()。"
   ],
   "cell_type": "markdown",
   "metadata": {}
  },
  {
   "cell_type": "code",
   "execution_count": 54,
   "metadata": {},
   "outputs": [],
   "source": [
    "def initialize_with_zeros(dim):\n",
    "    w = np.zeros((dim,1))\n",
    "    b = 0\n",
    "    return w,b"
   ]
  },
  {
   "cell_type": "code",
   "execution_count": 55,
   "metadata": {
    "tags": []
   },
   "outputs": [
    {
     "output_type": "stream",
     "name": "stdout",
     "text": "w= [[0.]\n [0.]]\nb= 0\n"
    }
   ],
   "source": [
    "dim = 2\n",
    "w, b = initialize_with_zeros(dim)\n",
    "print(\"w=\", w)\n",
    "print(\"b=\", b)"
   ]
  },
  {
   "source": [
    "### 4.3 - Forward and Backward propagation\n",
    "\n",
    "现在您的参数已初始化，您可以执行“前向”和“后向”传播来学习参数。\n",
    "\n",
    "**Exercise:** Implement a function `propagate()` that computes the cost function and its gradient.\n",
    "\n",
    "**Hints**:\n",
    "\n",
    "Forward Propagation:\n",
    "- You get X\n",
    "- You compute $A = \\sigma(wX + b) = (a^{(0)}, a^{(1)}, ..., a^{(m-1)}, a^{(m)})$\n",
    "- You calculate the cost function: $J = -\\frac{1}{m}\\sum_{i=1}^{m}y^{(i)}\\log(a^{(i)})+(1-y^{(i)})\\log(1-a^{(i)})$\n",
    "\n",
    "Here are the two formulas you will be using: \n",
    "\n",
    "$$ \\partial w = \\frac{\\partial J}{\\partial w} = \\frac{1}{m}(A-Y)X^T\\tag{7}$$\n",
    "$$ \\partial b = \\frac{\\partial J}{\\partial b} = \\frac{1}{m} \\sum_{i=1}^m (a^{(i)}-y^{(i)})\\tag{8}$$"
   ],
   "cell_type": "markdown",
   "metadata": {}
  },
  {
   "source": [
    "- n0: num_px \\* num_px \\* 3\n",
    "- X: (n0, m)\n",
    "- Y: (1, m)\n",
    "- w: (1, n0)"
   ],
   "cell_type": "markdown",
   "metadata": {}
  },
  {
   "cell_type": "code",
   "execution_count": 64,
   "metadata": {},
   "outputs": [],
   "source": [
    "# 传播\n",
    "def propagate(w, b, X, Y):\n",
    "    m = X.shape[1]\n",
    "    # 正向\n",
    "    A = sigmoid(np.dot(w, X) + b)\n",
    "    print(\"A=\", A)\n",
    "    cost = (-1/m) * np.sum(Y*np.log(A) + (1-Y)*np.log(1-A))\n",
    "    # 反向\n",
    "    dw = (1/m) * np.dot(A-Y, X.T)\n",
    "    db = (1/m) * np.sum(A-Y)\n",
    "\n",
    "    cost = np.squeeze(cost)\n",
    "    grads = {\"dw\":dw, \"db\":db}\n",
    "    return grads, cost"
   ]
  },
  {
   "source": [
    "测试一下"
   ],
   "cell_type": "markdown",
   "metadata": {}
  },
  {
   "cell_type": "code",
   "execution_count": 65,
   "metadata": {
    "tags": []
   },
   "outputs": [
    {
     "output_type": "stream",
     "name": "stdout",
     "text": "A= [[0.9020312  0.90720705]]\ndw= [[0.85822264 1.66746089 2.47669913]]\ndb= 0.4046191212926446\ncost= 1.2402453763962036\n"
    }
   ],
   "source": [
    "w = np.array([[0.01,0.02,0.03]]) # (1,3)\n",
    "b = 2\n",
    "X = np.array([[1,2],[3,4],[5,6]]) # (3,2)\n",
    "Y = np.array([[1,0]])   # (1,2)\n",
    "grads, cost = propagate(w,b,X,Y)\n",
    "print(\"dw=\", grads[\"dw\"])\n",
    "print(\"db=\", grads[\"db\"])\n",
    "print(\"cost=\", cost)"
   ]
  },
  {
   "source": [
    "### d) Optimization\n",
    "- 你已经初始化了你的参数。\n",
    "- 您也可以计算成本函数及其梯度。\n",
    "- 现在，您要使用梯度下降来更新参数。\n",
    "\n",
    "**Exercise:** Write down the optimization function. The goal is to learn $w$ and $b$ by minimizing the cost function $J$. For a parameter $\\theta$, the update rule is $ \\theta = \\theta - \\alpha \\text{ } d\\theta$, where $\\alpha$ is the learning rate."
   ],
   "cell_type": "markdown",
   "metadata": {}
  }
 ]
}